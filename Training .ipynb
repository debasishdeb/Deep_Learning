{
 "cells": [
  {
   "cell_type": "code",
   "execution_count": 1,
   "metadata": {},
   "outputs": [],
   "source": [
    "import pickle"
   ]
  },
  {
   "cell_type": "code",
   "execution_count": 2,
   "metadata": {},
   "outputs": [],
   "source": [
    "X = pickle.load(open('X.pkl', 'rb')) # loading preproccesed images\n",
    "y = pickle.load(open('y.pkl', 'rb'))# loading Labels"
   ]
  },
  {
   "cell_type": "code",
   "execution_count": 3,
   "metadata": {},
   "outputs": [
    {
     "data": {
      "text/plain": [
       "array([0, 0, 0, ..., 1, 1, 1])"
      ]
     },
     "execution_count": 3,
     "metadata": {},
     "output_type": "execute_result"
    }
   ],
   "source": [
    "y"
   ]
  },
  {
   "cell_type": "code",
   "execution_count": 4,
   "metadata": {},
   "outputs": [],
   "source": [
    "X = X/255 # normalizing images "
   ]
  },
  {
   "cell_type": "code",
   "execution_count": null,
   "metadata": {},
   "outputs": [],
   "source": []
  },
  {
   "cell_type": "code",
   "execution_count": 5,
   "metadata": {},
   "outputs": [],
   "source": [
    "X = X.reshape(-1, 100, 100, 1) # reshaping it for CNN"
   ]
  },
  {
   "cell_type": "code",
   "execution_count": 6,
   "metadata": {},
   "outputs": [],
   "source": [
    "import tensorflow as tf"
   ]
  },
  {
   "cell_type": "code",
   "execution_count": 7,
   "metadata": {},
   "outputs": [],
   "source": [
    "from tensorflow import keras\n",
    "from tensorflow.keras.models import Sequential\n",
    "from tensorflow.keras.layers import Conv2D, MaxPooling2D, Dense, Flatten,Dropout,Activation"
   ]
  },
  {
   "cell_type": "code",
   "execution_count": 8,
   "metadata": {},
   "outputs": [],
   "source": [
    "# Designing CNN\n",
    "model = Sequential()\n",
    "\n",
    "model.add(Conv2D(64, (3,3), activation = 'relu')) \n",
    "model.add(MaxPooling2D((2,2)))\n",
    "\n",
    "model.add(Conv2D(32, (3,3), activation = 'relu'))\n",
    "model.add(MaxPooling2D((2,2)))\n",
    "\n",
    "model.add(Flatten())\n",
    "\n",
    "model.add(Dense(128, input_shape = X.shape[1:], activation = 'relu'))\n",
    "model.add(Dropout(0.5))\n",
    "\n",
    "model.add(Dense(128,activation='relu'))\n",
    "model.add(Dropout(0.5))\n",
    "\n",
    "model.add(Dense(64,activation='relu'))\n",
    "model.add(Dropout(0.5))\n",
    "\n",
    "model.add(Dense(2, activation = 'softmax'))"
   ]
  },
  {
   "cell_type": "code",
   "execution_count": 9,
   "metadata": {},
   "outputs": [],
   "source": [
    "from sklearn.model_selection import train_test_split\n",
    "\n",
    "train_data,test_data,train_target,test_target=train_test_split(X,y,test_size=0.1)"
   ]
  },
  {
   "cell_type": "code",
   "execution_count": 10,
   "metadata": {},
   "outputs": [],
   "source": [
    "model.compile(optimizer='adam',\n",
    "              loss='sparse_categorical_crossentropy',\n",
    "              metrics=['accuracy'])"
   ]
  },
  {
   "cell_type": "code",
   "execution_count": 11,
   "metadata": {},
   "outputs": [
    {
     "name": "stdout",
     "output_type": "stream",
     "text": [
      "Epoch 1/15\n",
      "64/64 [==============================] - 51s 723ms/step - loss: 0.4945 - accuracy: 0.7352\n",
      "Epoch 2/15\n",
      "64/64 [==============================] - 43s 676ms/step - loss: 0.1710 - accuracy: 0.9427\n",
      "Epoch 3/15\n",
      "64/64 [==============================] - 42s 664ms/step - loss: 0.0893 - accuracy: 0.9736\n",
      "Epoch 4/15\n",
      "64/64 [==============================] - 42s 660ms/step - loss: 0.0993 - accuracy: 0.9736\n",
      "Epoch 5/15\n",
      "64/64 [==============================] - 43s 675ms/step - loss: 0.0973 - accuracy: 0.9706\n",
      "Epoch 6/15\n",
      "64/64 [==============================] - 44s 692ms/step - loss: 0.0577 - accuracy: 0.9829\n",
      "Epoch 7/15\n",
      "64/64 [==============================] - 45s 711ms/step - loss: 0.0508 - accuracy: 0.9878\n",
      "Epoch 8/15\n",
      "64/64 [==============================] - 44s 682ms/step - loss: 0.0564 - accuracy: 0.9848\n",
      "Epoch 9/15\n",
      "64/64 [==============================] - 44s 686ms/step - loss: 0.0524 - accuracy: 0.9848\n",
      "Epoch 10/15\n",
      "64/64 [==============================] - 44s 683ms/step - loss: 0.0529 - accuracy: 0.9834\n",
      "Epoch 11/15\n",
      "64/64 [==============================] - 43s 673ms/step - loss: 0.0518 - accuracy: 0.9814\n",
      "Epoch 12/15\n",
      "64/64 [==============================] - 47s 731ms/step - loss: 0.0343 - accuracy: 0.9907\n",
      "Epoch 13/15\n",
      "64/64 [==============================] - 47s 727ms/step - loss: 0.0218 - accuracy: 0.9912\n",
      "Epoch 14/15\n",
      "64/64 [==============================] - 45s 700ms/step - loss: 0.0237 - accuracy: 0.9912\n",
      "Epoch 15/15\n",
      "64/64 [==============================] - 47s 727ms/step - loss: 0.0204 - accuracy: 0.9922\n"
     ]
    },
    {
     "data": {
      "text/plain": [
       "<keras.callbacks.History at 0xdc613a7940>"
      ]
     },
     "execution_count": 11,
     "metadata": {},
     "output_type": "execute_result"
    }
   ],
   "source": [
    "model.fit(train_data,train_target,epochs=15)"
   ]
  },
  {
   "cell_type": "code",
   "execution_count": 12,
   "metadata": {},
   "outputs": [
    {
     "name": "stdout",
     "output_type": "stream",
     "text": [
      "8/8 [==============================] - 2s 178ms/step - loss: 0.0920 - accuracy: 0.9825\n",
      "[0.09200333803892136, 0.9824561476707458]\n"
     ]
    }
   ],
   "source": [
    "print(model.evaluate(test_data,test_target))# evaluate test data"
   ]
  },
  {
   "cell_type": "code",
   "execution_count": 13,
   "metadata": {},
   "outputs": [
    {
     "name": "stdout",
     "output_type": "stream",
     "text": [
      "INFO:tensorflow:Assets written to: Covid_model\\assets\n"
     ]
    }
   ],
   "source": [
    "model.save(r'Covid_model') #saved the  model"
   ]
  },
  {
   "cell_type": "code",
   "execution_count": null,
   "metadata": {},
   "outputs": [],
   "source": []
  }
 ],
 "metadata": {
  "kernelspec": {
   "display_name": "project_covid",
   "language": "python",
   "name": "project_covid"
  },
  "language_info": {
   "codemirror_mode": {
    "name": "ipython",
    "version": 3
   },
   "file_extension": ".py",
   "mimetype": "text/x-python",
   "name": "python",
   "nbconvert_exporter": "python",
   "pygments_lexer": "ipython3",
   "version": "3.6.9"
  }
 },
 "nbformat": 4,
 "nbformat_minor": 4
}
